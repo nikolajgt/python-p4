{
 "cells": [
  {
   "cell_type": "markdown",
   "metadata": {},
   "source": [
    "# Analyse af Løbsfil\n",
    "## Projektorienteret python programmeringsopgave"
   ]
  },
  {
   "attachments": {},
   "cell_type": "markdown",
   "metadata": {},
   "source": [
    "## Formål\n",
    "Du skal lave en lidt mere omfattende opgave hvor selv skal vælge værktøjer og fremgangsmåde for at lave en løsning på en opgave hvor dine valg har stor betydning for løsningens udformning.\n",
    "\n",
    "Du skal selv vælge hvilke komponenter, i form af programbiblioteker (libraries) eller anden kode, du henter fra andre, og hvor meget du skriver selv. Her er det lige så vigtigt at vælge klogt, så du får en stærk og fleksibel løsning, som kan udvides i en eventuel fremtid, som det er vigtigt at vise at du selv kan skrive programkode overskueligt, dokumenteret og effektivt.\n",
    "\n",
    "Datagrundlaget udleveres, og er dermed entydigt og givet. \n",
    "\n",
    "Løsningen skal være et program der beregner en bestemt problemstilling, og måske nogle flere.  \n",
    "Noget af svaret har således et helt bestemt output, andre måske et lidt mere valgfrit udseende.\n",
    "\n",
    "Du skal altså arbejde med at\n",
    "* analysere problemfeltets usecases, \n",
    "* datastrukturer der benyttes,\n",
    "* forstå brugerens domæne (godt nok til at løse opgaven),\n",
    "* søge viden om problemfelt, brugerens domæne og relevante datastrukturer og brugbare komponenter,\n",
    "* vælge komponenter (aka libraries),\n",
    "* integrere komponenter i programmet,\n",
    "* programmere,\n",
    "* og dokumentere"
   ]
  },
  {
   "attachments": {},
   "cell_type": "markdown",
   "metadata": {},
   "source": [
    "Det forventes at du løser opgaven med almindelig python syntakss, med loops og flow-control strukturer. Nogenlunde som du har gjort i starten af ugen."
   ]
  },
  {
   "attachments": {},
   "cell_type": "markdown",
   "metadata": {},
   "source": [
    "## Case-beskrivelse\n",
    "\n",
    "Jeg forsøger at lære orienteringsløb. Derfor deltager jeg i nogle orienteringsløb af og til. Til sådanne løb er jeg udfordret på flere måder; jeg skal kunne løbe rimeligt hurtigt, jeg skal kunne læse kort og finde vej hen til posterne, og jeg skal kunne gøre begge dele samtidigt. Det er en udfordring at løbe i terrænet, som oftest er en skov, hvor der er træer, underskov, grene, grøfter og alt muligt skrammel. Nogle løb afholdes i byområder, og her der stier, fortove, hegn, trapper, porte, huse, gader, biler, cykler, fodgængere og alt muligt andet, man skal uden om.  \n",
    "\n",
    "Et orienteringsløb foregår ved at jeg får udleveret et kort lige inden start. På kortet er et område med indtegnede cirkler, der er en post inden for hver cirkel. Når tiden starter, må jeg vende kortet, som jeg altså ikke har set inden start. Herefter gælder det så om at finde og checke ind på posterne i den rækkefølge de er på kortet. Et supplement til kortet er en liste med postdefinitioner, som både er på arket med kortet og på et ekstra papir, som udleveres inden, og jeg har i en holder på armen. Hver post checkes af med en elektronisk brik jeg har på hånden. på hver post findes en kontrolstation. Når jeg checker ind på posten, registreres brik id, kontrol id, og tidspunkt. Faktisk lagres det på brikken, så det kan aflæses umiddelbart efter jeg kommer i mål. Når er tilbage i mål, kontrolleres om jeg har checket alle poster, og den samlede tid, tæller i konkurrencen.  \n",
    "\n",
    "Jeg vil gerne have noget viden om hvor jeg kan gøre mit løb bedre, så jeg tænker at det kan jeg få ved at analysere det data der opsamles under løbet.  \n",
    "Nogen steder lykkes det ikke at løbe med hastigheden kommer ned i gang-hastighed, enten pga. udfordringer i terrænet eller fordi jeg er tvivl om retningen. Nogen gange står jeg stille og kigger på kortet, og nogen gange på landskabet, for at genkende kort og landskab.  \n",
    "\n",
    "Af og til løber jeg ikke direkte frem  mod posten, enten fordi jeg vælger en rute hen til posten, som går uden om forhindringer (f.eks. en sø eller en bygning), en rute der følger en vej eller sti, hvor jeg kan løbe hurtigere, eller jeg orienterer mig simpelthen forkert eller kan ikke finde posten. Her kan det være interessant at vide noget om ruten går en omvej i god hastighed, eller lige forbi posten, eller i en helt anden retning..."
   ]
  },
  {
   "attachments": {},
   "cell_type": "markdown",
   "metadata": {},
   "source": [
    "Produktmål\n",
    "Jeg vil gerne vide hvor meget af løbet reelt er foregået i løb, hvor meget i gang og hvor meget jeg har stået stille. Her skal der bruges nogle grænseværdier; løb defineres som tempo hurtigere end 10 minutter pr. kilometer,\n",
    "\n",
    "$ løb: tempo < 10\\frac{min}{km} $\n",
    "\n",
    "$ gang:\t10\\frac{min}{km} <tempo < 50\\frac{min}{km} $\n",
    "\n",
    "$ stå:\ttempo > 50\\frac{min}{km} $\n",
    "\n",
    "Bemærk at løbere ofte beskriver farten som tempo forstået som minutter pr kilometer [1]. Se afsnittet x under z.\n",
    "\n"
   ]
  },
  {
   "attachments": {},
   "cell_type": "markdown",
   "metadata": {},
   "source": [
    "## Delmål\n",
    "1. Skriv en funktion som omregner fra tempo (min/km) til hastighed (m/s)\n",
    "2. indlæs løbsfilen xxx.fit\n",
    "3. Skriv en funktion som beregner distance og tid mellem hvert målepunkt, i en ny liste af linjestykker.\n",
    "4. Beregn den samlede fordeling mellem tempo-zoner \n",
    "   1. I en funktion som beregner hastighed mellem hvert målepunkt. Egentlig i listen med linjestykker.\n",
    "   2. I en funktion som \n",
    "      1. beregner sum af afstand og sum af tid i hver af de tre tempo-zoner; løb, gang og stå\n",
    "      2. beregn hvor mange procent af tiden, der samlet foregår hver tempo-zone\n",
    "5. Udskriv på skærmen; tid, afstand og procent i udskrift i pæn udskrift som tabel 1\n",
    "6. Lav en ny funktion som, ud fra tidspunktet for post-kontrollerne i tabel x, \n",
    "   1. beregn afstanden i fugleflugt, mellem posterne\n",
    "   2. opdel listen af målepunkter i lister med punkter for stræk mellem hver post\n",
    "   3. beregner afstanden som faktisk er tilbagelagt på hvert stræk mellem posterne\n",
    "7. Ligesom i punkt 4, lav en ny funktion som beregner fordelingen mellem tempo-zoner, i hvert stræk\n",
    "   1. beregn hastighed mellem hvert målepunkt\n",
    "   2. beregn sum af afstand og sum af tid i hver af de tre tempo-zoner; løb, gang og stå\n",
    "   3. beregn hvor mange procent af tiden, der samlet foregår hver tempo-zone\n",
    "8. beregn forholdet mellem afstand på hvert stræk, og den reelt tilbagelagte afstand på strækket, også en funktion\n",
    "9. beregn gennemsnitshastigheden (og tempo) på hvert stræk\n",
    "10. beregn den teoretiske gennemsnitshastighed hvis strækket for foregået i fugleflugtslinje\n",
    "11. beregn forholdet mellem gennemsnitshastighederne i pkt 10 og 11\n",
    "12. udskriv beregningerne for 8-12 for hvert stræk, på en pæn måde, i stil med punkt 5.\n"
   ]
  },
  {
   "attachments": {},
   "cell_type": "markdown",
   "metadata": {},
   "source": [
    "## Datagrundlaget \n",
    "\n",
    "Det væsentligeste datagrundlag er `fit`-filen. Her er hele turen rundt tracket. Desuden er der en fil med tiderne jeg har \"klippet\" på kontrollerne."
   ]
  },
  {
   "attachments": {},
   "cell_type": "markdown",
   "metadata": {},
   "source": [
    "### Løbsfilen\n",
    "\n",
    "Du får udleveret med fil med data fra mit løbeur. Filen indeholder data om løbeturen optaget undervejs. På turen samples tid, position, højde over havet, puls og skridtfrekvens.\n",
    "Filen kan enten overføres direkte fra uret med et USB kabel, eller fra GARMINs medfølgende app og website.\n",
    "Fra appen er det letteste format GPX, mens det på uret ligger i formatet FIT.\n",
    ".fit\n",
    "Filformatet FIT er udviklet af Garmin[2], og det format som løbedata gemmes i direkte på Garmin Uret. Andre ure har sikkert andre formater.\n",
    "En fil fil kan læses eller konverteres med forskellige programmer, f.eks. FIT ConVerter[3], eller python modulerne fit2gpx[4], fitdecode[5], fitparse[6].\n",
    "\n",
    "Du får også udlevet et python modul `fit-file` til at læse `fit`-filen.\n",
    "\n",
    "I artiklen “Parsing fitness tracker data with Python” forklarer Alan Bunbury, hvordan forskellige løbefilformater kan læses [7], jeg har brugt hans eksempel (med få ændringer) til at dumpe indholdet af en .FIT fil [8]. \n"
   ]
  },
  {
   "attachments": {},
   "cell_type": "markdown",
   "metadata": {},
   "source": [
    "Herunder ser du et eksempel på hvordan fit filen er indlæst, og en `dict` fra listen er udlæst:"
   ]
  },
  {
   "cell_type": "code",
   "execution_count": 7,
   "metadata": {},
   "outputs": [
    {
     "name": "stdout",
     "output_type": "stream",
     "text": [
      "1210\n",
      "{'latitude': 55.91865699738264, 'longitude': 11.664552418515086, 'altitude': -8.0, 'timestamp': datetime.datetime(2022, 10, 8, 13, 32, 58, tzinfo=<DstTzInfo 'Europe/Copenhagen' CEST+2:00:00 DST>), 'heart_rate': 162, 'cadence': 76}\n"
     ]
    }
   ],
   "source": [
    "from fit_file import read\n",
    "fname = \"data/hok_klubmesterskab_2022/CA8D1347.FIT\"\n",
    "points = read.read_points(fname)\n",
    "print(len(points))\n",
    "print(points[300])"
   ]
  },
  {
   "attachments": {},
   "cell_type": "markdown",
   "metadata": {},
   "source": [
    "### Tempo vs hastighed\n",
    "\n",
    "Som nævnt beskrives farten i løb ofte, af løbere, som minutter pr. kilometer. Jeg antager at det er lettere at overskue, så at sige, i farten. Hvor mange minutter er der gået siden sidste kilometersten eller omgang.\n",
    "\n",
    "Casper Mikkelsen redegør udmærket for mange af de værdier og enheder der bruges til at beskrive løb mv, artiklen Pace Beregner: Din Hastighed I Km/t, M/s & Min/km (Beregner) [1]\n",
    "\n",
    "Tempobegrebet er anderledes end hastighed, på den måde at et lille tempo-tal udtryk for høj fart, mens ved højt tempo-tal er langsomt.\n",
    "\n",
    "Her kan du se hvordan  _tempo_ i min/km, omregnes til _hastighed_ i m/s, hvor $ p $ er pace, dvs. tempoet i $ \\frac{min}{km} $:\n",
    "\n",
    "$ p \\cdot \\tfrac{min}{km} $\n",
    "\n",
    "$ = p \\frac{60 \\cdot s}{1000 \\cdot m} $\n",
    "$    = \\frac{ \\frac{1000 \\cdot m}{60 \\cdot s} }{p} $\n",
    "$    = \\frac{ \\frac{1000}{60} }{p} \\cdot \\tfrac{m}{s} $\n",
    "  \n",
    "$    = \\frac{16.667}{p} \\cdot \\tfrac{m}{s} $\n",
    "\n",
    "Så, i matematisk format, ser funktionen sådan her ud:\n",
    "\n",
    "$ v(p) = \\frac{(\\tfrac{1000}{60})}{p} $\n",
    "\n",
    "Altså bliver de to grænseværdier:\n",
    "\n",
    "- løb: $ 10 \\tfrac{min}{km} = 1.666667 \\cdot \\tfrac{m}{s} $\n",
    "- gang: $ 50 \\tfrac{min}{km} = 0,333333 \\cdot \\tfrac{m}{s} $\n",
    "\n",
    "Du skal selv implementere funktionen `pace2velocity()`.\n",
    "\n",
    "    10 min/km = 1.666667 m/s\n",
    "    50 min/km = 0.333333 m/s\n"
   ]
  },
  {
   "attachments": {},
   "cell_type": "markdown",
   "metadata": {},
   "source": [
    "### Poster\n",
    "I .fit-løbsfilen kan man ikke se om jeg på turen kommer til en post. Man kan ikke se om posten checkes af (elektronisk), eller om jeg løber forbi, uden at se den. Derfor er der to dataset mere i opgaven. En liste af posternes positioner, og en udskrift fra SportIdent, med tider for hvornår jeg har været ved hver enkelt post.\n",
    "\n",
    "\n",
    "![](images/image11-autox400.png)\n",
    "\n",
    "Posternes positioner er estimeret fra kortet, i gis-programmet QGIS, Se billede. Positionerne er eksporteret til filen poster.csv. (note: poster.cvs, mangler ...)\n",
    "\n",
    "En af måderne at indlæse en kommasepareret fil (.csv), er at bruge pythons csv mudul [9]\n",
    "\n",
    "Den anden fil er tiderne fra printet herunder. I filen kontroltider.csv er posternes nr og den tid der er noteret på hver linje. \n",
    "For at indlæse csv-filen, og konvertere tiderne fra iso formatet til pythons datetime, kan du bruge nedenstående kode:\n",
    " \n",
    "![](images/image10-autox400.png)\n",
    "\n",
    "Billet herover er en kopi af print fra sportident systemet, med kontroltider på alle posterne. Bemærk at der er tidsstempel på alle posterne, som bør kunne sammenlignes med tiderne i løbsfilen.\n"
   ]
  },
  {
   "cell_type": "code",
   "execution_count": 12,
   "metadata": {},
   "outputs": [],
   "source": [
    "import csv\n",
    "import datetime\n",
    "\n",
    "with open('data/hok_klubmesterskab_2022/kontroltider.csv', 'r', \n",
    "          encoding='utf-8', newline='') as csvfile:\n",
    "    reader = csv.DictReader(csvfile)\n",
    "    postkontroller = [{ 'nr':row['nr'], \n",
    "            'timestamp': datetime.datetime.fromisoformat(row['timestamp']) } \n",
    "          for row in reader]"
   ]
  },
  {
   "attachments": {},
   "cell_type": "markdown",
   "metadata": {},
   "source": [
    "### Find delstræk mellem poster\n",
    "\n",
    "Du kan finde hvilke punkter det ligger mellem posterne, ved at sammenligne tiden på punkterne med tiden hvor postkontrollen er checket."
   ]
  },
  {
   "cell_type": "code",
   "execution_count": 15,
   "metadata": {},
   "outputs": [
    {
     "data": {
      "text/plain": [
       "(datetime.datetime(2022, 10, 8, 13, 16, 48, tzinfo=datetime.timezone(datetime.timedelta(seconds=7200))),\n",
       " {'latitude': 55.921604661270976,\n",
       "  'longitude': 11.666395431384444,\n",
       "  'altitude': 4.800000000000011,\n",
       "  'timestamp': datetime.datetime(2022, 10, 8, 13, 16, 40, tzinfo=<DstTzInfo 'Europe/Copenhagen' CEST+2:00:00 DST>),\n",
       "  'heart_rate': 155,\n",
       "  'cadence': 56})"
      ]
     },
     "execution_count": 15,
     "metadata": {},
     "output_type": "execute_result"
    }
   ],
   "source": [
    "st_1 = [p for p in points if p['timestamp'].astimezone() < postkontroller[1]['timestamp'] ]\n",
    "# her ses postkontrollens timestamp, og det sidste punkt fra fit filen der er før posten\n",
    "postkontroller[1]['timestamp'], st_1[-1]"
   ]
  },
  {
   "attachments": {},
   "cell_type": "markdown",
   "metadata": {},
   "source": [
    "Så skal du altså \"bare\" lave et loop som gennemløber alle postkontrollerne og finder alle det punkter der ligger imellem. Det mellem liggende punkter skal indsættes i 34 nye lister (eller en liste med lister) så du kan beregne den samlede reele afstand og tid."
   ]
  },
  {
   "attachments": {},
   "cell_type": "markdown",
   "metadata": {},
   "source": [
    "### Koordinater i lat/lon og afstande\n",
    "Positionerne på posterne og positionerne på målepunkterne i løbsfilen angives som longitude og latitude, eller på dansk længdegrad og breddegrad.\n",
    "* stammer fra søkort\n",
    "  * vinkeltro\n",
    "  * ikke arealtro\n",
    "  * ikke afstandstro\n",
    "* Den korteste vej er ikke en ret linje\n",
    "* god til kompasretninger\n",
    "* godt til at bestemme position med sekstant og ur\n",
    "Se encyklopædierne [10], [11]\n",
    "\n",
    "![](images/image15-autox300.png)\n",
    "![](images/image12-autox300.png)\n",
    "\n",
    "Den korteste linje er ikke en ret linje, på et søkort (med Mercantor projektion)[12]\n",
    "\n",
    "![](images/image13-autox300.png)\n",
    "![](images/image14-autox300.png)\n",
    "\n",
    "### Brug geopy!\n",
    "\n",
    "Fordi det er ret krævende matematisk at beregne den reelle afstend mellem koordinater angivet i længde og breddegrad (latetude/longitude), så vælger jeg at bruge funktionen `distance` fra modulet `geopy` til dette:"
   ]
  },
  {
   "cell_type": "code",
   "execution_count": null,
   "metadata": {},
   "outputs": [],
   "source": [
    "from geopy.distance import distance \n",
    "lines = []\n",
    "for i, p in enumerate(points[1:]):\n",
    "    # bemærk at i starter på 0 selv om vi slicer med [1:]\n",
    "    pp = points[i]                # previous_point\n",
    "    dt = (p['timestamp'] - pp['timestamp']).seconds\n",
    "    dd = distance( (pp['latitude'], pp['longitude']), (p['latitude'], p['longitude'])).meters\n",
    "    v = dd/dt\n",
    "\n",
    "    line = {\n",
    "        'start'             : pp,\n",
    "        'end'               : p,\n",
    "        'delta_time'        : dt,\n",
    "        'delta_distance'    : dd,\n",
    "\n",
    "# ... mere kode her ..."
   ]
  },
  {
   "attachments": {},
   "cell_type": "markdown",
   "metadata": {},
   "source": [
    "# Udskrifter\n",
    "\n",
    "Jeg vil gerne vide hvor godt jeg gør det, på løbet. F.eks. vil jeg gerne vide om jeg kan holde et tempo i løb eller jeg \"går ned i gang\", når det bliver svært at finde vej, eller tærrenet bliver hårdt. Derfor vil jeg gerne have en optælling af alle linjerne (mellem punkterne), så jeg kan se hvor meget der henholdsvis løb, gang, og stilstand, både opmålt i afstand, tid og procent (af tid).  \n",
    "\n",
    "Det skal stilles lidt pænt op, og kan f.eks. se sådan her ud:"
   ]
  },
  {
   "attachments": {},
   "cell_type": "markdown",
   "metadata": {},
   "source": [
    "              meters seconds % of time\n",
    "    Run:      5854.6    2251     39.9%\n",
    "    Walk:     3047.4    2977     52.8%\n",
    "    Idle        69.1     415      7.4%\n",
    "    Total:    8971.1    5643    100.0%"
   ]
  },
  {
   "attachments": {},
   "cell_type": "markdown",
   "metadata": {},
   "source": [
    "Når du har fundet de punkter der ligger mellem hver post, vil jeg gerne have oplysninger udskerevet for hvert delstræk, på samme måde som oven for, så jeg kan se hvilke stræk der gik godt og hvilke der er gået mindre godt."
   ]
  },
  {
   "attachments": {},
   "cell_type": "markdown",
   "metadata": {},
   "source": [
    "# Bedømmelse\n",
    "\n",
    "Der er rigtigt mange delopgaver i denne opgave, så det er ikke sikkert at du kan nå at lave dem alle sammen. \n",
    "\n",
    "I bedømmelsen, indgår både \n",
    "* hvor mange opgaver der er løst fuktionelt korrekt, \n",
    "* hvor læselig og forståelig koden er, logisk opbygget,\n",
    "* og dokumenteret.\n",
    "\n",
    "Desuden skal du også lave en lille beskrivelse og din løsning, som også kan fungere som en slags læse vejledningtil hvor jeg skal starte med at læse jeres program, hvordan men stater det.\n",
    "Beskriv også hvordan det er opbygget. Med funktioner og datastrukturer.\n",
    "\n",
    "Hvis en gruppe afleverer sammen, indgår det i bedømmelsen at jeg forventer at en gruppe kan nå at lave mere."
   ]
  },
  {
   "attachments": {},
   "cell_type": "markdown",
   "metadata": {},
   "source": [
    "# Kilder \n",
    "\n",
    "[1]\tC. Mikkelsen, “Pace Beregner: Din Hastighed I Km/t, M/s & Min/km (Beregner),” Nettofitness, Feb. 28, 2022. https://nettofitness.dk/a/pace-beregner (accessed Oct. 17, 2022).  \n",
    "[2]\t“FIT Protocol | FIT SDK | Garmin Developers.” https://developer.garmin.com/fit/protocol/ (accessed Oct. 16, 2022).  \n",
    "[3]\tC. P. UK, “FIT 2 GPX.” https://pinns.co.uk/osm/fit.html (accessed Oct. 16, 2022).  \n",
    "[4]\tdodo-saba, “fit2gpx -- convert .fit to .gpx.” Sep. 29, 2022. Accessed: Oct. 16, 2022. [Online]. Available: https://github.com/dodo-saba/fit2gpx  \n",
    "[5]\tJC, “fitdecode.” Oct. 16, 2022. Accessed: Oct. 16, 2022. [Online]. Available: https://github.com/polyvertex/fitdecode  \n",
    "[6]\tD. Cooper, “python-fitparse.” Oct. 14, 2022. Accessed: Oct. 16, 2022. [Online]. Available: https://github.com/dtcooper/python-fitparse  \n",
    "[7]\tA. Bunbury, “Parsing fitness tracker data with Python,” Medium, Jan. 23, 2021. https://towardsdatascience.com/ parsing-fitness-tracker-data-with-python-a59e7dc17418 (accessed Oct. 18, 2022).  \n",
    "[8]\tbunburya, “bunburya/fitness_tracker_data_parsing.” Jul. 20, 2022. Accessed: Oct. 18, 2022. [Online]. Available: https://github.com/bunburya/fitness_tracker_data_parsing/blob/8d71ff496d874f34ed806e8e7ffd8f20ff84a70f/parse_fit.py  \n",
    "[9]\t“csv — CSV File Reading and Writing — Python 3.10.8 documentation.” https://docs.python.org/3/library/csv.html (accessed Oct. 18, 2022).  \n",
    "[10]\t“kortprojektioner | lex.dk,” Den Store Danske. https://denstoredanske.lex.dk/kortprojektioner (accessed Oct. 17, 2022).  \n",
    "[11]\t“latitude and longitude | Definition, Examples, Diagrams, & Facts | Britannica.” https://www.britannica.com/science/latitude (accessed Oct. 17, 2022).  \n",
    "[12]\tS. Piloten, “Hvorfor flyver man over Grønland på en tur fra København til New York? Er det ikke en omvej?,” Spørg Piloten, Sep. 10, 2017. https://spoerg-piloten.dk/hvorfor-flyver-man-over-groenland-paa-en-tur-fra-koebenhavn-til-new-york-er-det-ikke-en-omvej/ (accessed Oct. 17, 2022).  \n",
    "[13]\t“Haversine formula,” Wikipedia. Jun. 01, 2022. Accessed: Oct. 17, 2022. [Online]. Available: https://en.wikipedia.org/w/index.php?title=Haversine_formula&oldid=1090892412  \n",
    "[14]\t“Haversine.” Mapado, Oct. 08, 2022. Accessed: Oct. 17, 2022. [Online]. Available: https://github.com/mapado/haversine    \n",
    "[15]\t“Welcome to GeoPy’s documentation! — GeoPy 2.2.0 documentation.” https://geopy.readthedocs.io/en/stable/index.html?highlight=distance#module-geopy.distance (accessed Oct. 17, 2022).  \n"
   ]
  }
 ],
 "metadata": {
  "kernelspec": {
   "display_name": "Python 3",
   "language": "python",
   "name": "python3"
  },
  "language_info": {
   "codemirror_mode": {
    "name": "ipython",
    "version": 3
   },
   "file_extension": ".py",
   "mimetype": "text/x-python",
   "name": "python",
   "nbconvert_exporter": "python",
   "pygments_lexer": "ipython3",
   "version": "3.11.1 (tags/v3.11.1:a7a450f, Dec  6 2022, 19:58:39) [MSC v.1934 64 bit (AMD64)]"
  },
  "orig_nbformat": 4,
  "vscode": {
   "interpreter": {
    "hash": "5238573367df39f7286bb46f9ff5f08f63a01a80960060ce41e3c79b190280fa"
   }
  }
 },
 "nbformat": 4,
 "nbformat_minor": 2
}
